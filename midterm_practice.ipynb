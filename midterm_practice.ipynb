{
 "cells": [
  {
   "cell_type": "markdown",
   "metadata": {},
   "source": [
    "# Midterm Practice #2"
   ]
  },
  {
   "cell_type": "code",
   "execution_count": 19,
   "metadata": {},
   "outputs": [],
   "source": [
    "import numpy as np\n",
    "import pandas as pd\n",
    "import scipy.stats as st"
   ]
  },
  {
   "cell_type": "markdown",
   "metadata": {},
   "source": [
    "#### 1. In an inventory study it was determined that the demand for a particular item at a warehouse followed a Poisson distribution with an average demand of 2 items per day."
   ]
  },
  {
   "cell_type": "code",
   "execution_count": 29,
   "metadata": {},
   "outputs": [],
   "source": [
    "mu = 2"
   ]
  },
  {
   "cell_type": "markdown",
   "metadata": {},
   "source": [
    "a. What is the probability that this item is requested 2 or more times in two days?"
   ]
  },
  {
   "cell_type": "code",
   "execution_count": 40,
   "metadata": {},
   "outputs": [
    {
     "data": {
      "text/plain": [
       "0.9084218055563291"
      ]
     },
     "execution_count": 40,
     "metadata": {},
     "output_type": "execute_result"
    }
   ],
   "source": [
    "# P(X >= 2) = 1 - P(X < 2) = 1 - {P(X = 0) + P(X = 1)}\n",
    "\n",
    "mu_2d = mu * 2\n",
    "\n",
    "p0 = np.exp(-mu_2d) * (mu_2d ** 0) / np.math.factorial(0)\n",
    "p1 = np.exp(-mu_2d) * (mu_2d ** 1) / np.math.factorial(1)\n",
    "\n",
    "p_ge_2 = 1 - (p0 + p1)\n",
    "p_ge_2"
   ]
  },
  {
   "cell_type": "markdown",
   "metadata": {},
   "source": [
    "b) What is the probability that this item is requested at most   three times on a given day?"
   ]
  },
  {
   "cell_type": "code",
   "execution_count": 42,
   "metadata": {},
   "outputs": [
    {
     "data": {
      "text/plain": [
       "0.8571234604985472"
      ]
     },
     "execution_count": 42,
     "metadata": {},
     "output_type": "execute_result"
    }
   ],
   "source": [
    "# P(X <= 3) = P(X = 0) + P(X = 1) + P(X = 2) + P(X = 3)\n",
    "p_le_3 = np.sum([np.exp(-mu) * mu ** x / np.math.factorial(x) for x in range(4)])\n",
    "p_le_3"
   ]
  },
  {
   "cell_type": "markdown",
   "metadata": {},
   "source": [
    "c) What is the probability that this item is requested at least 2 times given the demand was at most three on a given day?"
   ]
  },
  {
   "cell_type": "code",
   "execution_count": 43,
   "metadata": {},
   "outputs": [
    {
     "data": {
      "text/plain": [
       "0.5263157894736842"
      ]
     },
     "execution_count": 43,
     "metadata": {},
     "output_type": "execute_result"
    }
   ],
   "source": [
    "# P(X >= 2 | X <= 3) = P(X = 2) + P (X = 3) / P(X <= 3)\n",
    "p_ge_2 = np.sum([np.exp(-mu) * mu ** x / np.math.factorial(x) for x in range(2,4)])\n",
    "p_ge_2 / p_le_3"
   ]
  },
  {
   "cell_type": "markdown",
   "metadata": {},
   "source": [
    "d) What is the probability that this item is requested at most three times in 18 hours?     "
   ]
  },
  {
   "cell_type": "code",
   "execution_count": 44,
   "metadata": {},
   "outputs": [
    {
     "data": {
      "text/plain": [
       "0.9343575456215498"
      ]
     },
     "execution_count": 44,
     "metadata": {},
     "output_type": "execute_result"
    }
   ],
   "source": [
    "# P(X <= 3) = P(X = 0) + P(X = 1) + P(X = 2) + P(X = 3)\n",
    "# mu_18h = (18/24) * mu\n",
    "\n",
    "mu_18h = (18/24) * mu\n",
    "p_le_3_18h = np.sum([np.exp(-mu_18h) * mu_18h ** x / np.math.factorial(x) for x in range(4)])\n",
    "p_le_3_18h"
   ]
  },
  {
   "cell_type": "markdown",
   "metadata": {},
   "source": [
    "#### 2.\tSuppose that 65% of all subjects are able to learn task A within a specified number of tries. Of those who learn task A, 70% also are able to learn task B. Of those who do not learn task A, 50% are able to learn task B. A subject is chosen at random."
   ]
  },
  {
   "cell_type": "code",
   "execution_count": 62,
   "metadata": {},
   "outputs": [],
   "source": [
    "pA = 0.65\n",
    "p_B_given_A = 0.7\n",
    "p_B_given_notA = 0.5"
   ]
  },
  {
   "cell_type": "markdown",
   "metadata": {},
   "source": [
    "a) What is the probability that the subject will learn exactly one of the two tasks?"
   ]
  },
  {
   "cell_type": "code",
   "execution_count": 63,
   "metadata": {},
   "outputs": [
    {
     "data": {
      "text/plain": [
       "0.37"
      ]
     },
     "execution_count": 63,
     "metadata": {},
     "output_type": "execute_result"
    }
   ],
   "source": [
    "# P(exactly 1) = P(A) * P(not B| A) + P(not A) * P(B| not A)\n",
    "p_one = pA * (1 - p_B_given_A) + (1 - pA) * p_B_given_notA\n",
    "p_one"
   ]
  },
  {
   "cell_type": "markdown",
   "metadata": {},
   "source": [
    "b) Given the subject learns exactly one of the two tasks, what is the probability that it is task A?"
   ]
  },
  {
   "cell_type": "code",
   "execution_count": 64,
   "metadata": {},
   "outputs": [
    {
     "data": {
      "text/plain": [
       "0.5270270270270271"
      ]
     },
     "execution_count": 64,
     "metadata": {},
     "output_type": "execute_result"
    }
   ],
   "source": [
    "# P(only A | only 1) = P(only A) / P(exactly 1)\n",
    "\n",
    "p_only_A = pA * (1 - p_B_given_A)\n",
    "p_only_A / p_one"
   ]
  },
  {
   "cell_type": "markdown",
   "metadata": {},
   "source": [
    "c) If the subject learns task B, what is the probability that the subject also learn task A?"
   ]
  },
  {
   "cell_type": "code",
   "execution_count": 65,
   "metadata": {},
   "outputs": [
    {
     "data": {
      "text/plain": [
       "0.7222222222222223"
      ]
     },
     "execution_count": 65,
     "metadata": {},
     "output_type": "execute_result"
    }
   ],
   "source": [
    "# P(A | B) = P(A & B) / P(B)\n",
    "p_A_and_B = pA * p_B_given_A\n",
    "p_B = p_A_and_B + (1 - pA) * (1 - p_B_given_notA)\n",
    "p_A_and_B / p_B "
   ]
  },
  {
   "cell_type": "markdown",
   "metadata": {},
   "source": [
    "#### 3. Professor Cole R. Blind has a problem in matching his clothes. He has three shirts (blue, brown, and green) and two pairs of socks (blue and green)."
   ]
  },
  {
   "cell_type": "markdown",
   "metadata": {},
   "source": [
    "When Prof. Blind gets up in the morning he first chooses a shirt with the following probabilities: \n",
    "+ P(Blue Shirt) =0.4, P(Brown Shirt) = 0.3, P(Green Shirt) = 0.3. \n",
    "\n",
    "He next chooses a pair of socks with the following probabilities: \n",
    "+ P(Blue Socks | Blue Shirt) = 0.4, P(Blue Socks | Brown Shirt) =0.3 and P(Blue Socks | Green Shirt) =0.8"
   ]
  },
  {
   "cell_type": "markdown",
   "metadata": {},
   "source": [
    "a) Complete the following probability table:"
   ]
  },
  {
   "cell_type": "code",
   "execution_count": 101,
   "metadata": {},
   "outputs": [
    {
     "data": {
      "text/html": [
       "<div>\n",
       "<style scoped>\n",
       "    .dataframe tbody tr th:only-of-type {\n",
       "        vertical-align: middle;\n",
       "    }\n",
       "\n",
       "    .dataframe tbody tr th {\n",
       "        vertical-align: top;\n",
       "    }\n",
       "\n",
       "    .dataframe thead th {\n",
       "        text-align: right;\n",
       "    }\n",
       "</style>\n",
       "<table border=\"1\" class=\"dataframe\">\n",
       "  <thead>\n",
       "    <tr style=\"text-align: right;\">\n",
       "      <th></th>\n",
       "      <th>blue_shirt</th>\n",
       "      <th>brown_shirt</th>\n",
       "      <th>green_shirt</th>\n",
       "    </tr>\n",
       "  </thead>\n",
       "  <tbody>\n",
       "    <tr>\n",
       "      <td>blue_socks</td>\n",
       "      <td>0.16</td>\n",
       "      <td>0.09</td>\n",
       "      <td>0.24</td>\n",
       "    </tr>\n",
       "    <tr>\n",
       "      <td>green_socks</td>\n",
       "      <td>0.24</td>\n",
       "      <td>0.21</td>\n",
       "      <td>0.06</td>\n",
       "    </tr>\n",
       "  </tbody>\n",
       "</table>\n",
       "</div>"
      ],
      "text/plain": [
       "             blue_shirt  brown_shirt  green_shirt\n",
       "blue_socks         0.16         0.09         0.24\n",
       "green_socks        0.24         0.21         0.06"
      ]
     },
     "execution_count": 101,
     "metadata": {},
     "output_type": "execute_result"
    }
   ],
   "source": [
    "shirt_probs = [0.4, 0.3, 0.3]\n",
    "blue_given_shirt = [0.4, 0.3, 0.8]\n",
    "\n",
    "blue_sock_probs = []\n",
    "green_sock_probs = []\n",
    "\n",
    "for idx, prob in enumerate(shirt_probs):\n",
    "    blue_sock_probs.append(blue_given_shirt[idx] * prob)\n",
    "    green_sock_probs.append((1 - blue_given_shirt[idx]) * prob)\n",
    "\n",
    "clothes_matrix = np.round([blue_sock_probs, green_sock_probs], 2)\n",
    "clothes_df = pd.DataFrame(clothes_matrix,\n",
    "                          columns=['blue_shirt', 'brown_shirt', 'green_shirt'],\n",
    "                          index=['blue_socks', 'green_socks'])\n",
    "\n",
    "clothes_df"
   ]
  },
  {
   "cell_type": "code",
   "execution_count": 102,
   "metadata": {},
   "outputs": [
    {
     "data": {
      "text/plain": [
       "0.24"
      ]
     },
     "execution_count": 102,
     "metadata": {},
     "output_type": "execute_result"
    }
   ],
   "source": [
    "# probability of blue shirt given green socks\n",
    "clothes_df.loc['green_socks', 'blue_shirt']"
   ]
  },
  {
   "cell_type": "markdown",
   "metadata": {},
   "source": [
    "#### 4) According to some merchandising sources, 15% of all U.S. camcorder units shipped for sales are VHS-C format. A researcher randomly samples five individual camcorder units across the United States."
   ]
  },
  {
   "cell_type": "code",
   "execution_count": 109,
   "metadata": {},
   "outputs": [],
   "source": [
    "p = 0.15\n",
    "n = 5"
   ]
  },
  {
   "cell_type": "markdown",
   "metadata": {},
   "source": [
    "a) What is the probability that none of the sampled camcorder units is VHS-C format?"
   ]
  },
  {
   "cell_type": "code",
   "execution_count": 113,
   "metadata": {},
   "outputs": [
    {
     "data": {
      "text/plain": [
       "0.44370531249999995"
      ]
     },
     "execution_count": 113,
     "metadata": {},
     "output_type": "execute_result"
    }
   ],
   "source": [
    "p_0 = (1 - p) ** n\n",
    "p_0"
   ]
  },
  {
   "cell_type": "markdown",
   "metadata": {},
   "source": [
    "b) What is the probability that one of the VHS-C format?"
   ]
  },
  {
   "cell_type": "code",
   "execution_count": 114,
   "metadata": {},
   "outputs": [
    {
     "data": {
      "text/plain": [
       "0.3915046874999999"
      ]
     },
     "execution_count": 114,
     "metadata": {},
     "output_type": "execute_result"
    }
   ],
   "source": [
    "k = 1\n",
    "C = np.math.factorial(n) / (np.math.factorial(k) * np.math.factorial(n - k))\n",
    "p_1 = C * p ** k * (1 - p) ** (n - k)\n",
    "p_1"
   ]
  },
  {
   "cell_type": "markdown",
   "metadata": {},
   "source": [
    "c) What is the probability that two or more are of the VHS-C format?"
   ]
  },
  {
   "cell_type": "code",
   "execution_count": 115,
   "metadata": {},
   "outputs": [
    {
     "data": {
      "text/plain": [
       "0.16479000000000021"
      ]
     },
     "execution_count": 115,
     "metadata": {},
     "output_type": "execute_result"
    }
   ],
   "source": [
    "# P(X >= 2) = 1 - P(X = 0) - P(X = 1)\n",
    "\n",
    "1 - p_0 - p_1"
   ]
  },
  {
   "cell_type": "markdown",
   "metadata": {},
   "source": [
    "d) How many VHS-C format units would the researcher expect to get in a sample of five?"
   ]
  },
  {
   "cell_type": "code",
   "execution_count": 116,
   "metadata": {},
   "outputs": [
    {
     "data": {
      "text/plain": [
       "0.75"
      ]
     },
     "execution_count": 116,
     "metadata": {},
     "output_type": "execute_result"
    }
   ],
   "source": [
    "p * n"
   ]
  },
  {
   "cell_type": "markdown",
   "metadata": {},
   "source": [
    "#### 5. The probability that executive A attends a certain meeting is 0.4 and the probability that executive B attends that same meeting is 0.3. The probability that executive A attends the meeting is independent of executive B attends the meeting."
   ]
  },
  {
   "cell_type": "code",
   "execution_count": 117,
   "metadata": {},
   "outputs": [],
   "source": [
    "pA = 0.4\n",
    "pB = 0.3"
   ]
  },
  {
   "cell_type": "markdown",
   "metadata": {},
   "source": [
    "a) What is the probability that both executives attend the meeting?"
   ]
  },
  {
   "cell_type": "code",
   "execution_count": 119,
   "metadata": {},
   "outputs": [
    {
     "data": {
      "text/plain": [
       "0.12"
      ]
     },
     "execution_count": 119,
     "metadata": {},
     "output_type": "execute_result"
    }
   ],
   "source": [
    "pA_and_pB = pA * pB\n",
    "pA_and_pB"
   ]
  },
  {
   "cell_type": "markdown",
   "metadata": {},
   "source": [
    "b) What is the probability that at least one of the two executives attends the meeting?"
   ]
  },
  {
   "cell_type": "code",
   "execution_count": 120,
   "metadata": {},
   "outputs": [
    {
     "data": {
      "text/plain": [
       "0.58"
      ]
     },
     "execution_count": 120,
     "metadata": {},
     "output_type": "execute_result"
    }
   ],
   "source": [
    "pA + pB - pA_and_pB"
   ]
  },
  {
   "cell_type": "markdown",
   "metadata": {},
   "source": [
    "c) What is the probability that exactly one of the executives attends the meeting?"
   ]
  },
  {
   "cell_type": "code",
   "execution_count": 121,
   "metadata": {},
   "outputs": [
    {
     "data": {
      "text/plain": [
       "0.45999999999999996"
      ]
     },
     "execution_count": 121,
     "metadata": {},
     "output_type": "execute_result"
    }
   ],
   "source": [
    "pA * (1 - pB) + (1 - pA) * pB"
   ]
  },
  {
   "cell_type": "markdown",
   "metadata": {},
   "source": [
    "#### 6. Calculators are shipped to K-Mart in packages of 5. Three calculators are randomly selected from each package and tested. The package is rejected if 2 or more are defective. Find the probability that a package is accepted when there are 3 defectives in the package. "
   ]
  },
  {
   "cell_type": "code",
   "execution_count": 147,
   "metadata": {},
   "outputs": [
    {
     "data": {
      "text/plain": [
       "0.30000000000000004"
      ]
     },
     "execution_count": 147,
     "metadata": {},
     "output_type": "execute_result"
    }
   ],
   "source": [
    "# P(accepted) = 1 - P(rejected)\n",
    "# P(rejected) = Counts(draw 3 from 3 and 0 from 2) / Counts(draw 3 from 5) + \n",
    "#     Counts(draw 2 from 3 and 1 from 2) / Counts(draw 3 from 5)\n",
    "\n",
    "n = 5\n",
    "x = 3\n",
    "C = np.math.factorial(n) / (np.math.factorial(x) * np.math.factorial(n - x))\n",
    "C_3d = np.math.factorial(3) / (np.math.factorial(3) * np.math.factorial(3 - 3))\n",
    "C_0nd = np.math.factorial(2) / (np.math.factorial(0) * np.math.factorial(2 - 0))\n",
    "\n",
    "C_2d = np.math.factorial(3) / (np.math.factorial(2) * np.math.factorial(3 - 2))\n",
    "C_1nd = np.math.factorial(2) / (np.math.factorial(1) * np.math.factorial(2 - 1))\n",
    "\n",
    "p_rejected = (C_3d * C_0nd) / C + (C_2d * C_1nd) / C\n",
    "1 - p_rejected"
   ]
  },
  {
   "cell_type": "markdown",
   "metadata": {},
   "source": [
    "#### 7) A Portfolio manager performed a study to determine the probability distribution for the return of his portfolio. The results are as follows:"
   ]
  },
  {
   "cell_type": "code",
   "execution_count": 151,
   "metadata": {},
   "outputs": [
    {
     "data": {
      "text/html": [
       "<div>\n",
       "<style scoped>\n",
       "    .dataframe tbody tr th:only-of-type {\n",
       "        vertical-align: middle;\n",
       "    }\n",
       "\n",
       "    .dataframe tbody tr th {\n",
       "        vertical-align: top;\n",
       "    }\n",
       "\n",
       "    .dataframe thead th {\n",
       "        text-align: right;\n",
       "    }\n",
       "</style>\n",
       "<table border=\"1\" class=\"dataframe\">\n",
       "  <thead>\n",
       "    <tr style=\"text-align: right;\">\n",
       "      <th></th>\n",
       "      <th>return</th>\n",
       "      <th>probability</th>\n",
       "    </tr>\n",
       "  </thead>\n",
       "  <tbody>\n",
       "    <tr>\n",
       "      <td>0</td>\n",
       "      <td>-10</td>\n",
       "      <td>0.3</td>\n",
       "    </tr>\n",
       "    <tr>\n",
       "      <td>1</td>\n",
       "      <td>0</td>\n",
       "      <td>0.3</td>\n",
       "    </tr>\n",
       "    <tr>\n",
       "      <td>2</td>\n",
       "      <td>15</td>\n",
       "      <td>0.2</td>\n",
       "    </tr>\n",
       "    <tr>\n",
       "      <td>3</td>\n",
       "      <td>30</td>\n",
       "      <td>0.2</td>\n",
       "    </tr>\n",
       "  </tbody>\n",
       "</table>\n",
       "</div>"
      ],
      "text/plain": [
       "   return  probability\n",
       "0     -10          0.3\n",
       "1       0          0.3\n",
       "2      15          0.2\n",
       "3      30          0.2"
      ]
     },
     "execution_count": 151,
     "metadata": {},
     "output_type": "execute_result"
    }
   ],
   "source": [
    "portfolio = pd.DataFrame({\n",
    "    'return': [-10, 0, 15, 30],\n",
    "    'probability' : [0.3, 0.3, 0.2, 0.2]\n",
    "})\n",
    "\n",
    "portfolio"
   ]
  },
  {
   "cell_type": "markdown",
   "metadata": {},
   "source": [
    "a) What is the expected return for this portfolio?"
   ]
  },
  {
   "cell_type": "code",
   "execution_count": 161,
   "metadata": {},
   "outputs": [
    {
     "data": {
      "text/plain": [
       "6.0"
      ]
     },
     "execution_count": 161,
     "metadata": {},
     "output_type": "execute_result"
    }
   ],
   "source": [
    "expected_val = (portfolio['return'] * portfolio['probability']).sum()\n",
    "expected_val"
   ]
  },
  {
   "cell_type": "markdown",
   "metadata": {},
   "source": [
    "b) What is the standard deviation for the portfolio?"
   ]
  },
  {
   "cell_type": "code",
   "execution_count": 164,
   "metadata": {},
   "outputs": [
    {
     "data": {
      "text/plain": [
       "14.798648586948742"
      ]
     },
     "execution_count": 164,
     "metadata": {},
     "output_type": "execute_result"
    }
   ],
   "source": [
    "variance = (\n",
    "    (portfolio['return'] - expected_val) ** 2 * portfolio['probability']\n",
    ").sum()\n",
    "\n",
    "stdev = np.sqrt(variance)\n",
    "stdev"
   ]
  },
  {
   "cell_type": "markdown",
   "metadata": {},
   "source": [
    "c) What is the probability that portfolio return is 15 given the return is more than 0.0?"
   ]
  },
  {
   "cell_type": "code",
   "execution_count": 173,
   "metadata": {},
   "outputs": [
    {
     "data": {
      "text/plain": [
       "0.5"
      ]
     },
     "execution_count": 173,
     "metadata": {},
     "output_type": "execute_result"
    }
   ],
   "source": [
    "p_g_0 = portfolio[portfolio['return'] > 0]['probability'].sum()\n",
    "portfolio.loc[portfolio['return'] == 15, 'probability'].values[0] / p_g_0"
   ]
  },
  {
   "cell_type": "markdown",
   "metadata": {},
   "source": [
    "#### 8. Suppose the length of life of large shipments of flashlight batteries is normally distributed with a mean equal to 150 hours a standard deviation of 20 hours."
   ]
  },
  {
   "cell_type": "code",
   "execution_count": 174,
   "metadata": {},
   "outputs": [],
   "source": [
    "mu = 150\n",
    "sigma = 20"
   ]
  },
  {
   "cell_type": "markdown",
   "metadata": {},
   "source": [
    "a) What is the probability that a battery will last longer than 200 hours?"
   ]
  },
  {
   "cell_type": "code",
   "execution_count": 180,
   "metadata": {},
   "outputs": [
    {
     "data": {
      "text/plain": [
       "0.006209665325776159"
      ]
     },
     "execution_count": 180,
     "metadata": {},
     "output_type": "execute_result"
    }
   ],
   "source": [
    "# (P X > 200) = 1 - P(X <= 200)\n",
    "z_200 = (200 - mu) / sigma\n",
    "# z = 2.5\n",
    "p_g_200 = 1 - st.norm.cdf(z_200)\n",
    "p_g_200"
   ]
  },
  {
   "cell_type": "markdown",
   "metadata": {},
   "source": [
    "b) What is the probability that 2 of a random sample of 5 batteries will last longer than 200 hours? (Do not bother to carry out the calculations.)"
   ]
  },
  {
   "cell_type": "code",
   "execution_count": 183,
   "metadata": {},
   "outputs": [
    {
     "data": {
      "text/plain": [
       "3.855994345814673e-05"
      ]
     },
     "execution_count": 183,
     "metadata": {},
     "output_type": "execute_result"
    }
   ],
   "source": [
    "# 0\n",
    "p_g_200 ** 2"
   ]
  },
  {
   "cell_type": "markdown",
   "metadata": {},
   "source": [
    "c) What is the probability that a battery will last longer than 130 hours?"
   ]
  },
  {
   "cell_type": "code",
   "execution_count": 190,
   "metadata": {},
   "outputs": [
    {
     "data": {
      "text/plain": [
       "0.8412999999999999"
      ]
     },
     "execution_count": 190,
     "metadata": {},
     "output_type": "execute_result"
    }
   ],
   "source": [
    "# (P X > 130) = 1 - P(X <= 130)\n",
    "z_130 = (130 - mu) / sigma\n",
    "# z = -1\n",
    "# .5 plus 1 standard deviation\n",
    "p_g_130 = .5 + .3413\n",
    "p_g_130"
   ]
  },
  {
   "cell_type": "code",
   "execution_count": 191,
   "metadata": {},
   "outputs": [
    {
     "data": {
      "text/plain": [
       "0.8413447460685429"
      ]
     },
     "execution_count": 191,
     "metadata": {},
     "output_type": "execute_result"
    }
   ],
   "source": [
    "1 - st.norm.cdf(z_130)"
   ]
  }
 ],
 "metadata": {
  "kernelspec": {
   "display_name": "Python 3",
   "language": "python",
   "name": "python3"
  },
  "language_info": {
   "codemirror_mode": {
    "name": "ipython",
    "version": 3
   },
   "file_extension": ".py",
   "mimetype": "text/x-python",
   "name": "python",
   "nbconvert_exporter": "python",
   "pygments_lexer": "ipython3",
   "version": "3.7.4"
  }
 },
 "nbformat": 4,
 "nbformat_minor": 4
}
